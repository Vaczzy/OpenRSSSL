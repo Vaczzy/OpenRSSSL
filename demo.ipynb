{
 "cells": [
  {
   "cell_type": "markdown",
   "metadata": {},
   "source": [
    "# Demo"
   ]
  },
  {
   "cell_type": "code",
   "execution_count": null,
   "metadata": {},
   "outputs": [],
   "source": [
    "import openrsssl\n",
    "\n",
    "\"\"\"\n",
    "optional settings\n",
    "\"\"\"\n",
    "openrsssl.SetData('Test_data')\n",
    "openrsssl.SetModel('simclr')\n",
    "openrsssl.SetProcess('standard')\n",
    "\n",
    "openrsssl.train()"
   ]
  }
 ],
 "metadata": {
  "language_info": {
   "name": "python"
  }
 },
 "nbformat": 4,
 "nbformat_minor": 2
}
